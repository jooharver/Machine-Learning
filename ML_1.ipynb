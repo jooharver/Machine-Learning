{
  "nbformat": 4,
  "nbformat_minor": 0,
  "metadata": {
    "colab": {
      "provenance": [],
      "authorship_tag": "ABX9TyMb8iSgZDOVBfCeHIMNCDD9",
      "include_colab_link": true
    },
    "kernelspec": {
      "name": "python3",
      "display_name": "Python 3"
    },
    "language_info": {
      "name": "python"
    }
  },
  "cells": [
    {
      "cell_type": "markdown",
      "metadata": {
        "id": "view-in-github",
        "colab_type": "text"
      },
      "source": [
        "<a href=\"https://colab.research.google.com/github/jooharver/Machine-Learning/blob/main/ML_1.ipynb\" target=\"_parent\"><img src=\"https://colab.research.google.com/assets/colab-badge.svg\" alt=\"Open In Colab\"/></a>"
      ]
    },
    {
      "cell_type": "code",
      "execution_count": 1,
      "metadata": {
        "colab": {
          "base_uri": "https://localhost:8080/"
        },
        "id": "mNfIGHhMfQn1",
        "outputId": "dbede2f8-23ad-4aae-b9b1-6065f079d4e9"
      },
      "outputs": [
        {
          "output_type": "stream",
          "name": "stdout",
          "text": [
            "[0.0, 0.16666666666666666, 0.3333333333333333, 0.6666666666666666, 1.0]\n"
          ]
        }
      ],
      "source": [
        "def norm_data(data):\n",
        "  '''\n",
        "  Melakukan normalisasi data\n",
        "\n",
        "  Parameters:\n",
        "    data(list) : Data yang akan dinormalisasi\n",
        "\n",
        "  Returns:\n",
        "    data(list) : Data hasil normalisasi\n",
        "  '''\n",
        "\n",
        "  data_min = min(data)\n",
        "  data_max = max(data)\n",
        "  data_len = len(data)\n",
        "\n",
        "  for i in range(0, data_len):\n",
        "    data[i] = (data[i] - data_min) / (data_max - data_min)\n",
        "\n",
        "  return data\n",
        "\n",
        "#Contoh penggunaan\n",
        "data = [10,11,12,14,16]\n",
        "n_data = norm_data(data) #melakukan normalisasi\n",
        "print(n_data)\n"
      ]
    },
    {
      "cell_type": "code",
      "source": [
        "import numpy as np\n",
        "from sklearn.preprocessing import MinMaxScaler\n",
        "\n",
        "np.set_printoptions(precision=6) #bulatkan 4 angka koma\n",
        "np.set_printoptions(suppress=True) #hilangkan nilai e\n",
        "\n",
        "#membentuk data\n",
        "#Hal ini dikarenakan scikit-learn hanya menerima input\n",
        "#dalam bentuk n-dimensional array\n",
        "\n",
        "data = [\n",
        "        [100, 0.0001],\n",
        "        [50, 0.05],\n",
        "        [30, 0.003],\n",
        "       ]\n",
        "\n",
        "#ubah ke bentuk umpy n-dimensional array\n",
        "data = np.asarray(data)\n",
        "print ('Data Asli')\n",
        "print(data)\n",
        "\n",
        "#Mendefinisikan obyek MinMaxScaler\n",
        "scaler = MinMaxScaler()\n",
        "#Transformasikan data\n",
        "scaled = scaler.fit_transform(data)\n",
        "print ('Data Normalisasi')\n",
        "print(scaled)"
      ],
      "metadata": {
        "colab": {
          "base_uri": "https://localhost:8080/"
        },
        "id": "I56p8ph1ggbS",
        "outputId": "b152de3e-71d9-47cc-f420-b922c9694138"
      },
      "execution_count": 2,
      "outputs": [
        {
          "output_type": "stream",
          "name": "stdout",
          "text": [
            "Data Asli\n",
            "[[100.       0.0001]\n",
            " [ 50.       0.05  ]\n",
            " [ 30.       0.003 ]]\n",
            "Data Normalisasi\n",
            "[[1.       0.      ]\n",
            " [0.285714 1.      ]\n",
            " [0.       0.058116]]\n"
          ]
        }
      ]
    }
  ]
}